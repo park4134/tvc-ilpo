{
 "cells": [
  {
   "cell_type": "code",
   "execution_count": 1,
   "metadata": {},
   "outputs": [
    {
     "name": "stderr",
     "output_type": "stream",
     "text": [
      "2024-06-24 13:55:08.942525: E external/local_xla/xla/stream_executor/cuda/cuda_dnn.cc:9261] Unable to register cuDNN factory: Attempting to register factory for plugin cuDNN when one has already been registered\n",
      "2024-06-24 13:55:08.942557: E external/local_xla/xla/stream_executor/cuda/cuda_fft.cc:607] Unable to register cuFFT factory: Attempting to register factory for plugin cuFFT when one has already been registered\n",
      "2024-06-24 13:55:08.943358: E external/local_xla/xla/stream_executor/cuda/cuda_blas.cc:1515] Unable to register cuBLAS factory: Attempting to register factory for plugin cuBLAS when one has already been registered\n",
      "2024-06-24 13:55:08.949057: I tensorflow/core/platform/cpu_feature_guard.cc:182] This TensorFlow binary is optimized to use available CPU instructions in performance-critical operations.\n",
      "To enable the following instructions: SSE4.1 SSE4.2 AVX AVX2 AVX512F FMA, in other operations, rebuild TensorFlow with the appropriate compiler flags.\n"
     ]
    }
   ],
   "source": [
    "from glob import glob\n",
    "from tqdm import tqdm\n",
    "import matplotlib.pyplot as plt\n",
    "import tensorflow as tf\n",
    "import pandas as pd\n",
    "import numpy as np\n",
    "import json\n",
    "import time\n",
    "import yaml\n",
    "import os"
   ]
  },
  {
   "cell_type": "code",
   "execution_count": 2,
   "metadata": {},
   "outputs": [
    {
     "name": "stderr",
     "output_type": "stream",
     "text": [
      "2024-05-20 15:35:38.836465: I tensorflow/core/platform/cpu_feature_guard.cc:193] This TensorFlow binary is optimized with oneAPI Deep Neural Network Library (oneDNN) to use the following CPU instructions in performance-critical operations:  SSE4.1 SSE4.2 AVX AVX2 AVX512F FMA\n",
      "To enable them in other operations, rebuild TensorFlow with the appropriate compiler flags.\n",
      "2024-05-20 15:35:39.444773: I tensorflow/core/common_runtime/gpu/gpu_device.cc:1613] Created device /device:GPU:0 with 21864 MB memory:  -> device: 0, name: NVIDIA TITAN RTX, pci bus id: 0000:c1:00.0, compute capability: 7.5\n"
     ]
    },
    {
     "data": {
      "text/plain": [
       "[name: \"/device:CPU:0\"\n",
       " device_type: \"CPU\"\n",
       " memory_limit: 268435456\n",
       " locality {\n",
       " }\n",
       " incarnation: 17436680379663852170\n",
       " xla_global_id: -1,\n",
       " name: \"/device:GPU:0\"\n",
       " device_type: \"GPU\"\n",
       " memory_limit: 22926196736\n",
       " locality {\n",
       "   bus_id: 1\n",
       "   links {\n",
       "   }\n",
       " }\n",
       " incarnation: 12382587740794533711\n",
       " physical_device_desc: \"device: 0, name: NVIDIA TITAN RTX, pci bus id: 0000:c1:00.0, compute capability: 7.5\"\n",
       " xla_global_id: 416903419]"
      ]
     },
     "execution_count": 2,
     "metadata": {},
     "output_type": "execute_result"
    }
   ],
   "source": [
    "from tensorflow.python.client import device_lib\n",
    "device_lib.list_local_devices()"
   ]
  },
  {
   "cell_type": "markdown",
   "metadata": {},
   "source": [
    "## Gym"
   ]
  },
  {
   "cell_type": "code",
   "execution_count": null,
   "metadata": {},
   "outputs": [],
   "source": [
    "import gym\n",
    "from stable_baselines3 import DQN\n",
    "\n",
    "env = gym.make('LunarLander-v2', render_mode = \"human\")\n",
    "\n",
    "model = DQN(\"MlpPolicy\", env, verbose=1)\n",
    "model.learn(total_timesteps=10000)\n",
    "model.save(\"runs/dqn_lunarlander\")\n",
    "\n",
    "obs = env.reset()\n",
    "for i in tqdm(range(1000)):\n",
    "    action, _states = model.predict(obs[0], deterministic=True)\n",
    "    obs = env.step(action)\n",
    "    env.render()"
   ]
  },
  {
   "cell_type": "code",
   "execution_count": null,
   "metadata": {},
   "outputs": [],
   "source": [
    "import gymnasium as gym\n",
    "\n",
    "from stable_baselines3 import DQN\n",
    "from stable_baselines3.common.evaluation import evaluate_policy\n",
    "\n",
    "\n",
    "# Create environment\n",
    "env = gym.make(\"LunarLander-v2\", render_mode=\"rgb_array\")\n",
    "\n",
    "# Instantiate the agent\n",
    "model = DQN(\"MlpPolicy\", env, verbose=1, gamma=0.99, learning_rate=0.0001)\n",
    "# Train the agent and display a progress bar\n",
    "model.learn(total_timesteps=int(2e5), progress_bar=True)\n",
    "mean_reward, std_reward = evaluate_policy(model, model.get_env(), n_eval_episodes=10)\n",
    "# Save the agent\n",
    "model.save(\"runs/expert/dqn_lunar\")\n",
    "del model  # delete trained model to demonstrate loading"
   ]
  },
  {
   "cell_type": "code",
   "execution_count": null,
   "metadata": {},
   "outputs": [],
   "source": [
    "import gymnasium as gym\n",
    "\n",
    "from stable_baselines3 import PPO\n",
    "from stable_baselines3.common.evaluation import evaluate_policy\n",
    "\n",
    "# Create environment\n",
    "env = gym.make(\"LunarLander-v2\", render_mode=\"rgb_array\")\n",
    "\n",
    "# Instantiate the agent\n",
    "model = PPO(\"MlpPolicy\", env, verbose=1,\n",
    "            gamma=0.95, n_steps=2048, ent_coef=0.01, learning_rate=2.5e-4, vf_coef=0.5)\n",
    "# Train the agent and display a progress bar\n",
    "model.learn(total_timesteps=int(2e6), progress_bar=True)\n",
    "mean_reward, std_reward = evaluate_policy(model, model.get_env(), n_eval_episodes=10)\n",
    "# Save the agent\n",
    "model.save(\"runs/ppo_lunar\")"
   ]
  },
  {
   "cell_type": "code",
   "execution_count": null,
   "metadata": {},
   "outputs": [
    {
     "name": "stderr",
     "output_type": "stream",
     "text": [
      "/home/pcy/anaconda3/envs/ILPO/lib/python3.9/site-packages/stable_baselines3/common/evaluation.py:67: UserWarning: Evaluation environment is not wrapped with a ``Monitor`` wrapper. This may result in reporting modified episode lengths and rewards, if other wrappers happen to modify these. Consider wrapping environment first with ``Monitor`` wrapper.\n",
      "  warnings.warn(\n",
      "/home/pcy/anaconda3/envs/ILPO/lib/python3.9/site-packages/gym/utils/passive_env_checker.py:233: DeprecationWarning: `np.bool8` is a deprecated alias for `np.bool_`.  (Deprecated NumPy 1.24)\n",
      "  if not isinstance(terminated, (bool, np.bool8)):\n"
     ]
    },
    {
     "name": "stdout",
     "output_type": "stream",
     "text": [
      "mean_reward=267.81 +/- 25.41805570634785\n"
     ]
    },
    {
     "name": "stderr",
     "output_type": "stream",
     "text": [
      "/home/pcy/anaconda3/envs/ILPO/lib/python3.9/site-packages/gym/envs/box2d/lunar_lander.py:604: UserWarning: \u001b[33mWARN: You are calling render method without specifying any render mode. You can specify the render_mode at initialization, e.g. gym(\"LunarLander-v2\", render_mode=\"rgb_array\")\u001b[0m\n",
      "  gym.logger.warn(\n"
     ]
    }
   ],
   "source": [
    "import gym\n",
    "from stable_baselines3 import PPO\n",
    "from stable_baselines3.common.evaluation import evaluate_policy\n",
    "\n",
    "\n",
    "# Evaluate the agent\n",
    "eval_env = gym.make('LunarLander-v2')\n",
    "model = PPO.load(\"runs/expert/lunar_lander/ppo-LunarLander-v2\")\n",
    "mean_reward, std_reward = evaluate_policy(model, eval_env, n_eval_episodes=10, deterministic=True)\n",
    "print(f\"mean_reward={mean_reward:.2f} +/- {std_reward}\")\n",
    "\n",
    "# Watch the agent play\n",
    "obs = eval_env.reset()\n",
    "for i in range(1000):\n",
    "    action, _state = model.predict(obs[0])\n",
    "    # obs, reward, done, info = eval_env.step(action)\n",
    "    obs = eval_env.step(action)\n",
    "    eval_env.render()\n",
    "    if obs[2]:\n",
    "        obs = eval_env.reset()\n",
    "eval_env.close()"
   ]
  },
  {
   "cell_type": "code",
   "execution_count": null,
   "metadata": {},
   "outputs": [
    {
     "name": "stdout",
     "output_type": "stream",
     "text": [
      "Wrapping the env with a `Monitor` wrapper\n",
      "Wrapping the env in a DummyVecEnv.\n",
      "mean_reward=264.20 +/- 13.744305420570258\n"
     ]
    }
   ],
   "source": [
    "import gym\n",
    "from stable_baselines3 import PPO\n",
    "from stable_baselines3.common.evaluation import evaluate_policy\n",
    "\n",
    "# Evaluate the agent\n",
    "env = gym.make('LunarLander-v2', render_mode=\"rgb_array\")\n",
    "model = PPO.load(\"runs/expert/lunar_lander/PPO_lunar_217\", env=env)\n",
    "\n",
    "\n",
    "mean_reward, std_reward = evaluate_policy(model, env, n_eval_episodes=10, deterministic=True)\n",
    "print(f\"mean_reward={mean_reward:.2f} +/- {std_reward}\")\n",
    "\n",
    "# Watch the agent play\n",
    "obs = eval_env.reset()\n"
   ]
  },
  {
   "cell_type": "code",
   "execution_count": 21,
   "metadata": {},
   "outputs": [
    {
     "name": "stderr",
     "output_type": "stream",
     "text": [
      "/home/pcy/anaconda3/envs/ILPO/lib/python3.9/site-packages/stable_baselines3/common/vec_env/patch_gym.py:49: UserWarning: You provided an OpenAI Gym environment. We strongly recommend transitioning to Gymnasium environments. Stable-Baselines3 is automatically wrapping your environments in a compatibility layer, which could potentially cause issues.\n",
      "  warnings.warn(\n",
      "/home/pcy/anaconda3/envs/ILPO/lib/python3.9/site-packages/gym/utils/passive_env_checker.py:233: DeprecationWarning: `np.bool8` is a deprecated alias for `np.bool_`.  (Deprecated NumPy 1.24)\n",
      "  if not isinstance(terminated, (bool, np.bool8)):\n"
     ]
    },
    {
     "name": "stdout",
     "output_type": "stream",
     "text": [
      "Wrapping the env with a `Monitor` wrapper\n",
      "Wrapping the env in a DummyVecEnv.\n"
     ]
    }
   ],
   "source": [
    "import gym\n",
    "from stable_baselines3 import PPO\n",
    "from stable_baselines3.common.evaluation import evaluate_policy\n",
    "\n",
    "# Evaluate the agent\n",
    "env = gym.make('LunarLander-v2', render_mode=\"rgb_array\")\n",
    "model = PPO.load(\"runs/expert/lunar_lander/PPO_lunar_217\", env=env)\n",
    "\n",
    "vec_env = model.get_env()\n",
    "obs = vec_env.reset()\n",
    "\n",
    "state_list = []\n",
    "action_list = []\n",
    "\n",
    "for i in range(50):\n",
    "    action, _states = model.predict(obs, deterministic=True)  # 상태 저장 옵션 추가\n",
    "    obs, rewards, dones, info = vec_env.step(action)\n",
    "    state_list.append(obs[0])\n",
    "    action_list.append(action)\n",
    "    vec_env.render()\n",
    "    if dones:\n",
    "        break\n",
    "\n",
    "vec_env.close()\n",
    "\n",
    "state_list = np.array(state_list, dtype=np.float32)"
   ]
  },
  {
   "cell_type": "code",
   "execution_count": 22,
   "metadata": {},
   "outputs": [],
   "source": [
    "def serialize(obj):\n",
    "    if isinstance(obj, np.float32):\n",
    "        return float(obj)\n",
    "    elif isinstance(obj, np.floating):\n",
    "        return float(obj)\n",
    "    elif isinstance(obj, np.ndarray):\n",
    "        return obj.tolist()\n",
    "\n",
    "dict_state = {'pos_x' : list(state_list[:,0]),\n",
    "            'pos_y' : list(state_list[:, 1]),\n",
    "            'v_x' : list(state_list[:, 2]),\n",
    "            'v_y' : list(state_list[:, 3]),\n",
    "            'angle' : list(state_list[:, 4]),\n",
    "            'w' : list(state_list[:, 5]),\n",
    "            'is_grounded_left' : list(state_list[:, 6]),\n",
    "            'is_grounded_right' : list(state_list[:, 7]),\n",
    "            'action' : action_list\n",
    "            }\n",
    "\n",
    "num = len(glob(os.path.join(os.getcwd(), 'data', 'lunar_lander', 'expert_data*')))\n",
    "save_path = os.path.join(os.getcwd(), 'data', 'lunar_lander')\n",
    "if not os.path.isdir(save_path):\n",
    "    os.makedirs(save_path)\n",
    "\n",
    "with open(os.path.join(save_path, f'expert_data_{num}.json'), 'w') as f:\n",
    "    json.dump(dict_state, f, default=serialize)"
   ]
  },
  {
   "cell_type": "code",
   "execution_count": null,
   "metadata": {},
   "outputs": [
    {
     "name": "stderr",
     "output_type": "stream",
     "text": [
      "2024-05-12 20:01:58.129111: I tensorflow/core/platform/cpu_feature_guard.cc:210] This TensorFlow binary is optimized to use available CPU instructions in performance-critical operations.\n",
      "To enable the following instructions: AVX2 AVX512F FMA, in other operations, rebuild TensorFlow with the appropriate compiler flags.\n",
      "2024-05-12 20:01:58.856935: W tensorflow/compiler/tf2tensorrt/utils/py_utils.cc:38] TF-TRT Warning: Could not find TensorRT\n"
     ]
    },
    {
     "name": "stdout",
     "output_type": "stream",
     "text": [
      "Wrapping the env with a `Monitor` wrapper\n",
      "Wrapping the env in a DummyVecEnv.\n"
     ]
    },
    {
     "name": "stderr",
     "output_type": "stream",
     "text": [
      "/home/pcy/anaconda3/envs/ILPO/lib/python3.9/site-packages/stable_baselines3/common/evaluation.py:67: UserWarning: Evaluation environment is not wrapped with a ``Monitor`` wrapper. This may result in reporting modified episode lengths and rewards, if other wrappers happen to modify these. Consider wrapping environment first with ``Monitor`` wrapper.\n",
      "  warnings.warn(\n"
     ]
    },
    {
     "name": "stdout",
     "output_type": "stream",
     "text": [
      "mean_reward=222.48 +/- 72.24385949967981\n"
     ]
    },
    {
     "ename": "ValueError",
     "evalue": "You have passed a tuple to the predict() function instead of a Numpy array or a Dict. You are probably mixing Gym API with SB3 VecEnv API: `obs, info = env.reset()` (Gym) vs `obs = vec_env.reset()` (SB3 VecEnv). See related issue https://github.com/DLR-RM/stable-baselines3/issues/1694 and documentation for more information: https://stable-baselines3.readthedocs.io/en/master/guide/vec_envs.html#vecenv-api-vs-gym-api",
     "output_type": "error",
     "traceback": [
      "\u001b[0;31m---------------------------------------------------------------------------\u001b[0m",
      "\u001b[0;31mValueError\u001b[0m                                Traceback (most recent call last)",
      "Cell \u001b[0;32mIn[2], line 22\u001b[0m\n\u001b[1;32m     20\u001b[0m obs \u001b[38;5;241m=\u001b[39m env\u001b[38;5;241m.\u001b[39mreset()\n\u001b[1;32m     21\u001b[0m \u001b[38;5;28;01mfor\u001b[39;00m i \u001b[38;5;129;01min\u001b[39;00m \u001b[38;5;28mrange\u001b[39m(\u001b[38;5;241m1000\u001b[39m):\n\u001b[0;32m---> 22\u001b[0m     action, _state \u001b[38;5;241m=\u001b[39m \u001b[43mmodel\u001b[49m\u001b[38;5;241;43m.\u001b[39;49m\u001b[43mpredict\u001b[49m\u001b[43m(\u001b[49m\u001b[43mobs\u001b[49m\u001b[43m)\u001b[49m\n\u001b[1;32m     23\u001b[0m     obs, reward, done, info \u001b[38;5;241m=\u001b[39m env\u001b[38;5;241m.\u001b[39mstep(action)\n\u001b[1;32m     24\u001b[0m     env\u001b[38;5;241m.\u001b[39mrender()\n",
      "File \u001b[0;32m~/anaconda3/envs/ILPO/lib/python3.9/site-packages/stable_baselines3/common/base_class.py:556\u001b[0m, in \u001b[0;36mBaseAlgorithm.predict\u001b[0;34m(self, observation, state, episode_start, deterministic)\u001b[0m\n\u001b[1;32m    536\u001b[0m \u001b[38;5;28;01mdef\u001b[39;00m \u001b[38;5;21mpredict\u001b[39m(\n\u001b[1;32m    537\u001b[0m     \u001b[38;5;28mself\u001b[39m,\n\u001b[1;32m    538\u001b[0m     observation: Union[np\u001b[38;5;241m.\u001b[39mndarray, Dict[\u001b[38;5;28mstr\u001b[39m, np\u001b[38;5;241m.\u001b[39mndarray]],\n\u001b[0;32m   (...)\u001b[0m\n\u001b[1;32m    541\u001b[0m     deterministic: \u001b[38;5;28mbool\u001b[39m \u001b[38;5;241m=\u001b[39m \u001b[38;5;28;01mFalse\u001b[39;00m,\n\u001b[1;32m    542\u001b[0m ) \u001b[38;5;241m-\u001b[39m\u001b[38;5;241m>\u001b[39m Tuple[np\u001b[38;5;241m.\u001b[39mndarray, Optional[Tuple[np\u001b[38;5;241m.\u001b[39mndarray, \u001b[38;5;241m.\u001b[39m\u001b[38;5;241m.\u001b[39m\u001b[38;5;241m.\u001b[39m]]]:\n\u001b[1;32m    543\u001b[0m \u001b[38;5;250m    \u001b[39m\u001b[38;5;124;03m\"\"\"\u001b[39;00m\n\u001b[1;32m    544\u001b[0m \u001b[38;5;124;03m    Get the policy action from an observation (and optional hidden state).\u001b[39;00m\n\u001b[1;32m    545\u001b[0m \u001b[38;5;124;03m    Includes sugar-coating to handle different observations (e.g. normalizing images).\u001b[39;00m\n\u001b[0;32m   (...)\u001b[0m\n\u001b[1;32m    554\u001b[0m \u001b[38;5;124;03m        (used in recurrent policies)\u001b[39;00m\n\u001b[1;32m    555\u001b[0m \u001b[38;5;124;03m    \"\"\"\u001b[39;00m\n\u001b[0;32m--> 556\u001b[0m     \u001b[38;5;28;01mreturn\u001b[39;00m \u001b[38;5;28;43mself\u001b[39;49m\u001b[38;5;241;43m.\u001b[39;49m\u001b[43mpolicy\u001b[49m\u001b[38;5;241;43m.\u001b[39;49m\u001b[43mpredict\u001b[49m\u001b[43m(\u001b[49m\u001b[43mobservation\u001b[49m\u001b[43m,\u001b[49m\u001b[43m \u001b[49m\u001b[43mstate\u001b[49m\u001b[43m,\u001b[49m\u001b[43m \u001b[49m\u001b[43mepisode_start\u001b[49m\u001b[43m,\u001b[49m\u001b[43m \u001b[49m\u001b[43mdeterministic\u001b[49m\u001b[43m)\u001b[49m\n",
      "File \u001b[0;32m~/anaconda3/envs/ILPO/lib/python3.9/site-packages/stable_baselines3/common/policies.py:357\u001b[0m, in \u001b[0;36mBasePolicy.predict\u001b[0;34m(self, observation, state, episode_start, deterministic)\u001b[0m\n\u001b[1;32m    354\u001b[0m \u001b[38;5;66;03m# Check for common mistake that the user does not mix Gym/VecEnv API\u001b[39;00m\n\u001b[1;32m    355\u001b[0m \u001b[38;5;66;03m# Tuple obs are not supported by SB3, so we can safely do that check\u001b[39;00m\n\u001b[1;32m    356\u001b[0m \u001b[38;5;28;01mif\u001b[39;00m \u001b[38;5;28misinstance\u001b[39m(observation, \u001b[38;5;28mtuple\u001b[39m) \u001b[38;5;129;01mand\u001b[39;00m \u001b[38;5;28mlen\u001b[39m(observation) \u001b[38;5;241m==\u001b[39m \u001b[38;5;241m2\u001b[39m \u001b[38;5;129;01mand\u001b[39;00m \u001b[38;5;28misinstance\u001b[39m(observation[\u001b[38;5;241m1\u001b[39m], \u001b[38;5;28mdict\u001b[39m):\n\u001b[0;32m--> 357\u001b[0m     \u001b[38;5;28;01mraise\u001b[39;00m \u001b[38;5;167;01mValueError\u001b[39;00m(\n\u001b[1;32m    358\u001b[0m         \u001b[38;5;124m\"\u001b[39m\u001b[38;5;124mYou have passed a tuple to the predict() function instead of a Numpy array or a Dict. \u001b[39m\u001b[38;5;124m\"\u001b[39m\n\u001b[1;32m    359\u001b[0m         \u001b[38;5;124m\"\u001b[39m\u001b[38;5;124mYou are probably mixing Gym API with SB3 VecEnv API: `obs, info = env.reset()` (Gym) \u001b[39m\u001b[38;5;124m\"\u001b[39m\n\u001b[1;32m    360\u001b[0m         \u001b[38;5;124m\"\u001b[39m\u001b[38;5;124mvs `obs = vec_env.reset()` (SB3 VecEnv). \u001b[39m\u001b[38;5;124m\"\u001b[39m\n\u001b[1;32m    361\u001b[0m         \u001b[38;5;124m\"\u001b[39m\u001b[38;5;124mSee related issue https://github.com/DLR-RM/stable-baselines3/issues/1694 \u001b[39m\u001b[38;5;124m\"\u001b[39m\n\u001b[1;32m    362\u001b[0m         \u001b[38;5;124m\"\u001b[39m\u001b[38;5;124mand documentation for more information: https://stable-baselines3.readthedocs.io/en/master/guide/vec_envs.html#vecenv-api-vs-gym-api\u001b[39m\u001b[38;5;124m\"\u001b[39m\n\u001b[1;32m    363\u001b[0m     )\n\u001b[1;32m    365\u001b[0m obs_tensor, vectorized_env \u001b[38;5;241m=\u001b[39m \u001b[38;5;28mself\u001b[39m\u001b[38;5;241m.\u001b[39mobs_to_tensor(observation)\n\u001b[1;32m    367\u001b[0m \u001b[38;5;28;01mwith\u001b[39;00m th\u001b[38;5;241m.\u001b[39mno_grad():\n",
      "\u001b[0;31mValueError\u001b[0m: You have passed a tuple to the predict() function instead of a Numpy array or a Dict. You are probably mixing Gym API with SB3 VecEnv API: `obs, info = env.reset()` (Gym) vs `obs = vec_env.reset()` (SB3 VecEnv). See related issue https://github.com/DLR-RM/stable-baselines3/issues/1694 and documentation for more information: https://stable-baselines3.readthedocs.io/en/master/guide/vec_envs.html#vecenv-api-vs-gym-api"
     ]
    }
   ],
   "source": [
    "import gymnasium as gym\n",
    "\n",
    "from stable_baselines3 import PPO\n",
    "from stable_baselines3.common.evaluation import evaluate_policy\n",
    "\n",
    "env = gym.make(\"LunarLander-v2\")\n",
    "env.reset()\n",
    "\n",
    "# Load the trained agent\n",
    "# NOTE: if you have loading issue, you can pass `print_system_info=True`\n",
    "# to compare the system on which the model was trained vs the current one\n",
    "# model = DQN.load(\"dqn_lunar\", env=env, print_system_info=True)\n",
    "model = PPO.load(\"runs/expert/lunar_lander/PPO_lunar_217\", env=env)\n",
    "\n",
    "eval_env = gym.make('LunarLander-v2')\n",
    "mean_reward, std_reward = evaluate_policy(model, eval_env, n_eval_episodes=10, deterministic=True)\n",
    "print(f\"mean_reward={mean_reward:.2f} +/- {std_reward}\")\n",
    "\n",
    "# Watch the agent play\n",
    "obs = env.reset()\n",
    "for i in range(1000):\n",
    "    action, _state = model.predict(obs)\n",
    "    obs, reward, done, info = env.step(action)\n",
    "    env.render()\n",
    "    if done:\n",
    "        obs = env.reset()\n",
    "env.close()"
   ]
  },
  {
   "cell_type": "code",
   "execution_count": 3,
   "metadata": {},
   "outputs": [],
   "source": [
    "base_path = os.path.join(os.getcwd(), 'runs', 'policy', 'LunarLander-v2', 'train')\n",
    "model_paths = glob(os.path.join(base_path, 'model*'))"
   ]
  },
  {
   "cell_type": "code",
   "execution_count": 13,
   "metadata": {},
   "outputs": [],
   "source": [
    "for p in model_paths:\n",
    "    config_path = os.path.join(p, 'config.yaml')\n",
    "    with open(config_path, 'r') as file:\n",
    "        config_data = yaml.safe_load(file) or {}\n",
    "\n",
    "    if \"seq\" in config_data.keys():\n",
    "        continue\n",
    "    else:\n",
    "        config_data['seq'] = 1\n",
    "        with open(config_path, 'w') as file:\n",
    "            yaml.dump(config_data, file, default_flow_style=False)"
   ]
  },
  {
   "cell_type": "code",
   "execution_count": 14,
   "metadata": {},
   "outputs": [
    {
     "data": {
      "text/plain": [
       "dict_keys(['pos_x', 'pos_y', 'v_x', 'v_y', 'angle', 'w', 'is_grounded_left', 'is_grounded_right', 'action'])"
      ]
     },
     "execution_count": 14,
     "metadata": {},
     "output_type": "execute_result"
    }
   ],
   "source": [
    "dict_r.keys()"
   ]
  },
  {
   "cell_type": "markdown",
   "metadata": {},
   "source": [
    "## Result"
   ]
  },
  {
   "cell_type": "code",
   "execution_count": 112,
   "metadata": {},
   "outputs": [],
   "source": [
    "paths = glob(os.path.join(os.getcwd(), 'runs', 'policy', 'LunarLander-v2', 'test', 'model*', 'test_result*'))"
   ]
  },
  {
   "cell_type": "code",
   "execution_count": 2,
   "metadata": {},
   "outputs": [
    {
     "data": {
      "text/plain": [
       "array([1, 2, 3])"
      ]
     },
     "execution_count": 2,
     "metadata": {},
     "output_type": "execute_result"
    }
   ],
   "source": [
    "a = np.array([[1],[2],[3]])\n",
    "a.reshape(-1)"
   ]
  },
  {
   "cell_type": "code",
   "execution_count": 116,
   "metadata": {},
   "outputs": [],
   "source": [
    "paths_best = [paths[3], paths[8], paths[10], paths[11], paths[17], paths[22], paths[-3]]"
   ]
  },
  {
   "cell_type": "code",
   "execution_count": 25,
   "metadata": {},
   "outputs": [],
   "source": [
    "import re\n",
    "def extract_number_after_p(filename):\n",
    "    # 정규 표현식 패턴\n",
    "    pattern = r'z(\\d+)'\n",
    "    \n",
    "    # 패턴 검색\n",
    "    match = re.search(pattern, filename)\n",
    "    \n",
    "    if match:\n",
    "        return int(match.group(1))\n",
    "    else:\n",
    "        return None"
   ]
  },
  {
   "cell_type": "code",
   "execution_count": 101,
   "metadata": {},
   "outputs": [
    {
     "data": {
      "text/plain": [
       "array([-0.424651  , -0.02152429, -0.72083104, -0.5710515 , -0.5713095 ,\n",
       "       -0.9971576 ], dtype=float32)"
      ]
     },
     "execution_count": 101,
     "metadata": {},
     "output_type": "execute_result"
    }
   ],
   "source": [
    "np.load(os.path.join(os.getcwd(), 'data', 'preprocessed', 'LunarLander-v2', 'expert_data_1', 'seq10_min_0.2.npy'))"
   ]
  },
  {
   "cell_type": "code",
   "execution_count": 103,
   "metadata": {},
   "outputs": [
    {
     "name": "stdout",
     "output_type": "stream",
     "text": [
      "model_45 : [ 1.50547196  0.43851821  8.77094444 16.20313235  2.89390745  7.92717577]\n",
      "model_80 : [0.19368624 0.78801578 1.31773394 0.83172366 0.76469041 1.40082347]\n",
      "model_54 : [ 0.83233201  0.87894219  5.66716352 18.34758058  7.93362407  4.31595046]\n",
      "model_14 : [0.00918448 0.01691398 0.28541814 0.57191743 0.03293711 0.27385178]\n",
      "model_18 : [0.01655863 0.035311   0.28210825 1.26595671 0.08147392 0.32573954]\n",
      "model_37 : [0.05177045 0.04281669 0.39658044 0.90086473 0.04821578 0.3113472 ]\n",
      "model_9 : [0.02230877 0.02973103 0.3613823  0.9085036  0.06033741 0.28664063]\n",
      "model_30 : [0.30427511 0.14288941 0.34226358 0.67930525 0.38742247 0.45672799]\n",
      "model_69 : [0.02478548 0.08643595 0.25354004 0.58350896 0.0979343  0.27876451]\n",
      "model_93 : [2.29642922 6.63858509 2.52365413 4.71967056 1.88336478 4.26949578]\n",
      "model_21 : [0.01289475 0.02265875 0.28443512 0.54042168 0.02918132 0.30640206]\n",
      "model_33 : [0.03344033 0.02734045 0.28485749 0.56542411 0.03474185 0.30271222]\n",
      "model_47 : [ 6.01614754  7.0092274   9.02155293 10.34590719 15.05550221 36.34168273]\n",
      "model_57 : [20.03688443 11.90088825  8.44644905 35.95967542 12.3003714  36.32852371]\n",
      "model_62 : [0.02364813 0.03733016 0.32511794 1.05449106 0.06157701 0.27002755]\n",
      "model_90 : [ 1.68306949  2.22490318 12.56719357  6.85231069  4.26069772  2.72778476]\n",
      "model_71 : [0.25590826 0.82677594 1.22560477 0.82650938 0.73841534 1.66744116]\n",
      "model_67 : [0.06560736 0.05587791 0.258969   0.61337687 0.09582971 0.28986554]\n",
      "model_3 : [0.02031407 0.02271539 0.39763089 0.9112536  0.03926235 0.29769612]\n",
      "model_4 : [0.04184647 0.01861887 0.28219031 0.57363116 0.03916391 0.27852079]\n",
      "model_56 : [ 7.17575069  3.12031557 14.4626062   9.76955229  2.260412    2.32829992]\n",
      "model_51 : [ 2.057163    1.00395536  8.02891241 38.27396608 16.17876862  7.29166685]\n",
      "model_1 : [0.01526532 0.02260817 0.30954708 0.58621391 0.09221064 0.3033175 ]\n",
      "model_106 : [ 12.57998815  25.88871533  13.27489021 217.83772175  28.59072078\n",
      "  36.32799332]\n",
      "model_94 : [ 2.73052744  3.23407018 19.34334132 11.86967349  6.38400757  6.17678095]\n",
      "model_25 : [0.08095551 0.18688751 0.92771071 0.67170536 0.46517573 0.46554751]\n",
      "model_98 : [ 4.14320244  3.27904741 34.38817877 50.09199744  9.2904405   9.28634943]\n",
      "model_23 : [0.01884813 0.01733831 0.26283683 0.55388529 0.02689619 0.28166868]\n",
      "model_27 : [0.116891   0.09546908 0.29425562 1.92478656 0.13552694 0.34451486]\n",
      "model_89 : [ 3.93002071  5.15398306 19.06829205 42.32568557  8.89985389 12.80563463]\n"
     ]
    }
   ],
   "source": [
    "r = np.array([['rel_metric_pos_x', 'rel_metric_pos_y', 'rel_metric_v_x', 'rel_metric_v_y', 'rel_metric_angle', 'rel_metric_w']])\n",
    "r = np.array([['rel_metric_pos_x', 'rel_metric_pos_y', 'rel_metric_v_x', 'rel_metric_v_y', 'rel_metric_angle', 'rel_metric_w']])\n",
    "m = []\n",
    "for p in paths:\n",
    "    df = pd.read_csv(p)\n",
    "    print(f\"{p.split(os.sep)[-2]} : \", end='')\n",
    "    print(np.array(df[['rel_metric_pos_x', 'rel_metric_pos_y', 'rel_metric_v_x', 'rel_metric_v_y', 'rel_metric_angle', 'rel_metric_w']].mean()))\n",
    "    # if len(r) == 0:\n",
    "    #     r = np.array(df[['rel_metric_pos_x', 'rel_metric_pos_y', 'rel_metric_v_x', 'rel_metric_v_y', 'rel_metric_angle', 'rel_metric_w']].mean())\n",
    "    # else:\n",
    "    r = np.concatenate((r, np.expand_dims(np.array(df[['rel_metric_pos_x', 'rel_metric_pos_y', 'rel_metric_v_x', 'rel_metric_v_y', 'rel_metric_angle', 'rel_metric_w']].mean()), axis=0)), axis=0)\n",
    "    m.append(p.split(os.sep)[-2])"
   ]
  },
  {
   "cell_type": "code",
   "execution_count": 104,
   "metadata": {},
   "outputs": [],
   "source": [
    "r = pd.DataFrame(r)\n",
    "new_header = r.iloc[0]\n",
    "r = r[1:]\n",
    "r.columns = new_header\n",
    "r['model'] = m\n",
    "r.to_csv('rel.csv', index=False)\n"
   ]
  },
  {
   "cell_type": "code",
   "execution_count": 120,
   "metadata": {},
   "outputs": [
    {
     "data": {
      "image/png": "[encoded data removed]",
      "text/plain": [
       "<Figure size 600x450 with 1 Axes>"
      ]
     },
     "metadata": {},
     "output_type": "display_data"
    },
    {
     "data": {
      "image/png": "[encoded data removed]",
      "text/plain": [
       "<Figure size 600x450 with 1 Axes>"
      ]
     },
     "metadata": {},
     "output_type": "display_data"
    },
    {
     "data": {
      "image/png": "[encoded data removed]",
      "text/plain": [
       "<Figure size 600x450 with 1 Axes>"
      ]
     },
     "metadata": {},
     "output_type": "display_data"
    },
    {
     "data": {
      "image/png": "[encoded data removed]",
      "text/plain": [
       "<Figure size 600x450 with 1 Axes>"
      ]
     },
     "metadata": {},
     "output_type": "display_data"
    },
    {
     "data": {
      "image/png": "[encoded data removed]",
      "text/plain": [
       "<Figure size 600x450 with 1 Axes>"
      ]
     },
     "metadata": {},
     "output_type": "display_data"
    },
    {
     "data": {
      "image/png": "[encoded data removed]",
      "text/plain": [
       "<Figure size 600x450 with 1 Axes>"
      ]
     },
     "metadata": {},
     "output_type": "display_data"
    },
    {
     "data": {
      "image/png": "[encoded data removed]",
      "text/plain": [
       "<Figure size 600x450 with 1 Axes>"
      ]
     },
     "metadata": {},
     "output_type": "display_data"
    }
   ],
   "source": [
    "for p in paths_best:\n",
    "    df = pd.read_csv(p)\n",
    "    num = extract_number_after_p(p.split(os.sep)[-1])\n",
    "    plt.figure(figsize=(6, 4.5))\n",
    "    plt.hist(df['test_z'], bins=np.arange(-0.5, num, 1), alpha=0.7, rwidth=0.5, density=True)\n",
    "    # plt.title(f'Histogram of test_z : {p.split(os.sep)[-2]}, n_latent_action = {num}', fontsize=16)\n",
    "    plt.title(p.split(os.sep)[-2], fontsize=20)\n",
    "    plt.xlabel('test_z', fontsize=16)\n",
    "    plt.ylabel('Frequency', fontsize=16)\n",
    "    plt.xticks(np.arange(0, num, 1))\n",
    "    plt.xlim(-0.6, num-0.4)\n",
    "    plt.show()"
   ]
  },
  {
   "cell_type": "code",
   "execution_count": 13,
   "metadata": {},
   "outputs": [
    {
     "data": {
      "text/html": [
       "<div>\n",
       "<style scoped>\n",
       "    .dataframe tbody tr th:only-of-type {\n",
       "        vertical-align: middle;\n",
       "    }\n",
       "\n",
       "    .dataframe tbody tr th {\n",
       "        vertical-align: top;\n",
       "    }\n",
       "\n",
       "    .dataframe thead th {\n",
       "        text-align: right;\n",
       "    }\n",
       "</style>\n",
       "<table border=\"1\" class=\"dataframe\">\n",
       "  <thead>\n",
       "    <tr style=\"text-align: right;\">\n",
       "      <th></th>\n",
       "      <th>Unnamed: 0</th>\n",
       "      <th>test_s_pos_x</th>\n",
       "      <th>test_s_pos_y</th>\n",
       "      <th>test_s_v_x</th>\n",
       "      <th>test_s_v_y</th>\n",
       "      <th>test_s_angle</th>\n",
       "      <th>test_s_w</th>\n",
       "      <th>test_s_next_pos_x</th>\n",
       "      <th>test_s_next_pos_y</th>\n",
       "      <th>test_s_next_v_x</th>\n",
       "      <th>...</th>\n",
       "      <th>test_s_next_angle</th>\n",
       "      <th>test_s_next_w</th>\n",
       "      <th>test_metric</th>\n",
       "      <th>test_z</th>\n",
       "      <th>rel_metric_pos_x</th>\n",
       "      <th>rel_metric_pos_y</th>\n",
       "      <th>rel_metric_v_x</th>\n",
       "      <th>rel_metric_v_y</th>\n",
       "      <th>rel_metric_angle</th>\n",
       "      <th>rel_metric_w</th>\n",
       "    </tr>\n",
       "  </thead>\n",
       "  <tbody>\n",
       "    <tr>\n",
       "      <th>0</th>\n",
       "      <td>0</td>\n",
       "      <td>0.499784</td>\n",
       "      <td>0.977126</td>\n",
       "      <td>0.496715</td>\n",
       "      <td>0.544178</td>\n",
       "      <td>0.500120</td>\n",
       "      <td>0.500737</td>\n",
       "      <td>0.499675</td>\n",
       "      <td>0.980240</td>\n",
       "      <td>0.496715</td>\n",
       "      <td>...</td>\n",
       "      <td>0.500178</td>\n",
       "      <td>0.500736</td>\n",
       "      <td>0.034495</td>\n",
       "      <td>0</td>\n",
       "      <td>1.708598</td>\n",
       "      <td>0.000483</td>\n",
       "      <td>1.679779</td>\n",
       "      <td>133.015820</td>\n",
       "      <td>10.373733</td>\n",
       "      <td>100.767235</td>\n",
       "    </tr>\n",
       "    <tr>\n",
       "      <th>1</th>\n",
       "      <td>1</td>\n",
       "      <td>0.499675</td>\n",
       "      <td>0.980240</td>\n",
       "      <td>0.496715</td>\n",
       "      <td>0.541516</td>\n",
       "      <td>0.500178</td>\n",
       "      <td>0.500736</td>\n",
       "      <td>0.499567</td>\n",
       "      <td>0.983154</td>\n",
       "      <td>0.496715</td>\n",
       "      <td>...</td>\n",
       "      <td>0.500237</td>\n",
       "      <td>0.500736</td>\n",
       "      <td>0.034429</td>\n",
       "      <td>0</td>\n",
       "      <td>1.714039</td>\n",
       "      <td>0.002076</td>\n",
       "      <td>1.591680</td>\n",
       "      <td>131.929750</td>\n",
       "      <td>10.963545</td>\n",
       "      <td>100.612724</td>\n",
       "    </tr>\n",
       "    <tr>\n",
       "      <th>2</th>\n",
       "      <td>2</td>\n",
       "      <td>0.499567</td>\n",
       "      <td>0.983154</td>\n",
       "      <td>0.496715</td>\n",
       "      <td>0.538849</td>\n",
       "      <td>0.500237</td>\n",
       "      <td>0.500736</td>\n",
       "      <td>0.499459</td>\n",
       "      <td>0.985867</td>\n",
       "      <td>0.496715</td>\n",
       "      <td>...</td>\n",
       "      <td>0.500295</td>\n",
       "      <td>0.500736</td>\n",
       "      <td>0.034379</td>\n",
       "      <td>0</td>\n",
       "      <td>1.685823</td>\n",
       "      <td>0.014906</td>\n",
       "      <td>1.539654</td>\n",
       "      <td>131.442410</td>\n",
       "      <td>11.546159</td>\n",
       "      <td>100.668976</td>\n",
       "    </tr>\n",
       "    <tr>\n",
       "      <th>3</th>\n",
       "      <td>3</td>\n",
       "      <td>0.499459</td>\n",
       "      <td>0.985867</td>\n",
       "      <td>0.496715</td>\n",
       "      <td>0.536182</td>\n",
       "      <td>0.500295</td>\n",
       "      <td>0.500736</td>\n",
       "      <td>0.499351</td>\n",
       "      <td>0.988381</td>\n",
       "      <td>0.496715</td>\n",
       "      <td>...</td>\n",
       "      <td>0.500354</td>\n",
       "      <td>0.500736</td>\n",
       "      <td>0.034340</td>\n",
       "      <td>0</td>\n",
       "      <td>1.652996</td>\n",
       "      <td>0.043438</td>\n",
       "      <td>1.500817</td>\n",
       "      <td>131.007860</td>\n",
       "      <td>12.096795</td>\n",
       "      <td>100.847946</td>\n",
       "    </tr>\n",
       "    <tr>\n",
       "      <th>4</th>\n",
       "      <td>4</td>\n",
       "      <td>0.499351</td>\n",
       "      <td>0.988381</td>\n",
       "      <td>0.496715</td>\n",
       "      <td>0.533516</td>\n",
       "      <td>0.500354</td>\n",
       "      <td>0.500736</td>\n",
       "      <td>0.499242</td>\n",
       "      <td>0.990695</td>\n",
       "      <td>0.496715</td>\n",
       "      <td>...</td>\n",
       "      <td>0.500412</td>\n",
       "      <td>0.500736</td>\n",
       "      <td>0.034310</td>\n",
       "      <td>0</td>\n",
       "      <td>1.615608</td>\n",
       "      <td>0.093941</td>\n",
       "      <td>1.474502</td>\n",
       "      <td>130.626270</td>\n",
       "      <td>12.611954</td>\n",
       "      <td>101.150130</td>\n",
       "    </tr>\n",
       "    <tr>\n",
       "      <th>...</th>\n",
       "      <td>...</td>\n",
       "      <td>...</td>\n",
       "      <td>...</td>\n",
       "      <td>...</td>\n",
       "      <td>...</td>\n",
       "      <td>...</td>\n",
       "      <td>...</td>\n",
       "      <td>...</td>\n",
       "      <td>...</td>\n",
       "      <td>...</td>\n",
       "      <td>...</td>\n",
       "      <td>...</td>\n",
       "      <td>...</td>\n",
       "      <td>...</td>\n",
       "      <td>...</td>\n",
       "      <td>...</td>\n",
       "      <td>...</td>\n",
       "      <td>...</td>\n",
       "      <td>...</td>\n",
       "      <td>...</td>\n",
       "      <td>...</td>\n",
       "    </tr>\n",
       "    <tr>\n",
       "      <th>33981</th>\n",
       "      <td>33981</td>\n",
       "      <td>0.476900</td>\n",
       "      <td>0.499692</td>\n",
       "      <td>0.500000</td>\n",
       "      <td>0.500000</td>\n",
       "      <td>0.500092</td>\n",
       "      <td>0.500000</td>\n",
       "      <td>0.476900</td>\n",
       "      <td>0.499692</td>\n",
       "      <td>0.500000</td>\n",
       "      <td>...</td>\n",
       "      <td>0.500092</td>\n",
       "      <td>0.500000</td>\n",
       "      <td>0.012055</td>\n",
       "      <td>0</td>\n",
       "      <td>2.628245</td>\n",
       "      <td>0.034626</td>\n",
       "      <td>32.183064</td>\n",
       "      <td>104.448130</td>\n",
       "      <td>5.017936</td>\n",
       "      <td>1.022463</td>\n",
       "    </tr>\n",
       "    <tr>\n",
       "      <th>33982</th>\n",
       "      <td>33982</td>\n",
       "      <td>0.476900</td>\n",
       "      <td>0.499692</td>\n",
       "      <td>0.500000</td>\n",
       "      <td>0.500000</td>\n",
       "      <td>0.500092</td>\n",
       "      <td>0.500000</td>\n",
       "      <td>0.476900</td>\n",
       "      <td>0.499692</td>\n",
       "      <td>0.500000</td>\n",
       "      <td>...</td>\n",
       "      <td>0.500092</td>\n",
       "      <td>0.500000</td>\n",
       "      <td>0.012055</td>\n",
       "      <td>0</td>\n",
       "      <td>2.628245</td>\n",
       "      <td>0.034626</td>\n",
       "      <td>32.183037</td>\n",
       "      <td>104.448130</td>\n",
       "      <td>5.017935</td>\n",
       "      <td>1.022465</td>\n",
       "    </tr>\n",
       "    <tr>\n",
       "      <th>33983</th>\n",
       "      <td>33983</td>\n",
       "      <td>0.476900</td>\n",
       "      <td>0.499692</td>\n",
       "      <td>0.500000</td>\n",
       "      <td>0.500000</td>\n",
       "      <td>0.500092</td>\n",
       "      <td>0.500000</td>\n",
       "      <td>0.476900</td>\n",
       "      <td>0.499692</td>\n",
       "      <td>0.500000</td>\n",
       "      <td>...</td>\n",
       "      <td>0.500092</td>\n",
       "      <td>0.500000</td>\n",
       "      <td>0.012055</td>\n",
       "      <td>0</td>\n",
       "      <td>2.628245</td>\n",
       "      <td>0.034626</td>\n",
       "      <td>32.182995</td>\n",
       "      <td>104.448130</td>\n",
       "      <td>5.017939</td>\n",
       "      <td>1.022446</td>\n",
       "    </tr>\n",
       "    <tr>\n",
       "      <th>33984</th>\n",
       "      <td>33984</td>\n",
       "      <td>0.476900</td>\n",
       "      <td>0.499692</td>\n",
       "      <td>0.500000</td>\n",
       "      <td>0.500000</td>\n",
       "      <td>0.500092</td>\n",
       "      <td>0.500000</td>\n",
       "      <td>0.476900</td>\n",
       "      <td>0.499692</td>\n",
       "      <td>0.500000</td>\n",
       "      <td>...</td>\n",
       "      <td>0.500092</td>\n",
       "      <td>0.500000</td>\n",
       "      <td>0.012055</td>\n",
       "      <td>0</td>\n",
       "      <td>2.628245</td>\n",
       "      <td>0.034626</td>\n",
       "      <td>32.182980</td>\n",
       "      <td>104.448130</td>\n",
       "      <td>5.017930</td>\n",
       "      <td>1.022447</td>\n",
       "    </tr>\n",
       "    <tr>\n",
       "      <th>33985</th>\n",
       "      <td>33985</td>\n",
       "      <td>0.476900</td>\n",
       "      <td>0.499692</td>\n",
       "      <td>0.500000</td>\n",
       "      <td>0.500000</td>\n",
       "      <td>0.500092</td>\n",
       "      <td>0.500000</td>\n",
       "      <td>0.498686</td>\n",
       "      <td>0.968445</td>\n",
       "      <td>0.460056</td>\n",
       "      <td>...</td>\n",
       "      <td>0.500729</td>\n",
       "      <td>0.509048</td>\n",
       "      <td>0.471556</td>\n",
       "      <td>0</td>\n",
       "      <td>0.854904</td>\n",
       "      <td>0.999202</td>\n",
       "      <td>1.303402</td>\n",
       "      <td>0.345607</td>\n",
       "      <td>5.888955</td>\n",
       "      <td>1.221086</td>\n",
       "    </tr>\n",
       "  </tbody>\n",
       "</table>\n",
       "<p>33986 rows × 21 columns</p>\n",
       "</div>"
      ],
      "text/plain": [
       "       Unnamed: 0  test_s_pos_x  test_s_pos_y  test_s_v_x  test_s_v_y  \\\n",
       "0               0      0.499784      0.977126    0.496715    0.544178   \n",
       "1               1      0.499675      0.980240    0.496715    0.541516   \n",
       "2               2      0.499567      0.983154    0.496715    0.538849   \n",
       "3               3      0.499459      0.985867    0.496715    0.536182   \n",
       "4               4      0.499351      0.988381    0.496715    0.533516   \n",
       "...           ...           ...           ...         ...         ...   \n",
       "33981       33981      0.476900      0.499692    0.500000    0.500000   \n",
       "33982       33982      0.476900      0.499692    0.500000    0.500000   \n",
       "33983       33983      0.476900      0.499692    0.500000    0.500000   \n",
       "33984       33984      0.476900      0.499692    0.500000    0.500000   \n",
       "33985       33985      0.476900      0.499692    0.500000    0.500000   \n",
       "\n",
       "       test_s_angle  test_s_w  test_s_next_pos_x  test_s_next_pos_y  \\\n",
       "0          0.500120  0.500737           0.499675           0.980240   \n",
       "1          0.500178  0.500736           0.499567           0.983154   \n",
       "2          0.500237  0.500736           0.499459           0.985867   \n",
       "3          0.500295  0.500736           0.499351           0.988381   \n",
       "4          0.500354  0.500736           0.499242           0.990695   \n",
       "...             ...       ...                ...                ...   \n",
       "33981      0.500092  0.500000           0.476900           0.499692   \n",
       "33982      0.500092  0.500000           0.476900           0.499692   \n",
       "33983      0.500092  0.500000           0.476900           0.499692   \n",
       "33984      0.500092  0.500000           0.476900           0.499692   \n",
       "33985      0.500092  0.500000           0.498686           0.968445   \n",
       "\n",
       "       test_s_next_v_x  ...  test_s_next_angle  test_s_next_w  test_metric  \\\n",
       "0             0.496715  ...           0.500178       0.500736     0.034495   \n",
       "1             0.496715  ...           0.500237       0.500736     0.034429   \n",
       "2             0.496715  ...           0.500295       0.500736     0.034379   \n",
       "3             0.496715  ...           0.500354       0.500736     0.034340   \n",
       "4             0.496715  ...           0.500412       0.500736     0.034310   \n",
       "...                ...  ...                ...            ...          ...   \n",
       "33981         0.500000  ...           0.500092       0.500000     0.012055   \n",
       "33982         0.500000  ...           0.500092       0.500000     0.012055   \n",
       "33983         0.500000  ...           0.500092       0.500000     0.012055   \n",
       "33984         0.500000  ...           0.500092       0.500000     0.012055   \n",
       "33985         0.460056  ...           0.500729       0.509048     0.471556   \n",
       "\n",
       "       test_z  rel_metric_pos_x  rel_metric_pos_y  rel_metric_v_x  \\\n",
       "0           0          1.708598          0.000483        1.679779   \n",
       "1           0          1.714039          0.002076        1.591680   \n",
       "2           0          1.685823          0.014906        1.539654   \n",
       "3           0          1.652996          0.043438        1.500817   \n",
       "4           0          1.615608          0.093941        1.474502   \n",
       "...       ...               ...               ...             ...   \n",
       "33981       0          2.628245          0.034626       32.183064   \n",
       "33982       0          2.628245          0.034626       32.183037   \n",
       "33983       0          2.628245          0.034626       32.182995   \n",
       "33984       0          2.628245          0.034626       32.182980   \n",
       "33985       0          0.854904          0.999202        1.303402   \n",
       "\n",
       "       rel_metric_v_y  rel_metric_angle  rel_metric_w  \n",
       "0          133.015820         10.373733    100.767235  \n",
       "1          131.929750         10.963545    100.612724  \n",
       "2          131.442410         11.546159    100.668976  \n",
       "3          131.007860         12.096795    100.847946  \n",
       "4          130.626270         12.611954    101.150130  \n",
       "...               ...               ...           ...  \n",
       "33981      104.448130          5.017936      1.022463  \n",
       "33982      104.448130          5.017935      1.022465  \n",
       "33983      104.448130          5.017939      1.022446  \n",
       "33984      104.448130          5.017930      1.022447  \n",
       "33985        0.345607          5.888955      1.221086  \n",
       "\n",
       "[33986 rows x 21 columns]"
      ]
     },
     "execution_count": 13,
     "metadata": {},
     "output_type": "execute_result"
    }
   ],
   "source": [
    "df"
   ]
  }
 ],
 "metadata": {
  "kernelspec": {
   "display_name": "PCY",
   "language": "python",
   "name": "python3"
  },
  "language_info": {
   "codemirror_mode": {
    "name": "ipython",
    "version": 3
   },
   "file_extension": ".py",
   "mimetype": "text/x-python",
   "name": "python",
   "nbconvert_exporter": "python",
   "pygments_lexer": "ipython3",
   "version": "3.9.19"
  }
 },
 "nbformat": 4,
 "nbformat_minor": 2
}
